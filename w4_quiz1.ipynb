import numpy as np

from scipy.stats import norm

norm.cdf(0)
np.log(2)

# Q3

x1=1-norm.cdf(np.log(3)-3/2.)

'%.2f' % (x1*100)

# Q4

x1 = 1-norm.cdf(1, loc=0, scale=1)
x2 = 1-norm.cdf(1, loc=0, scale=1)

'%.2f' % (x1*x2*100)

# Q5

x1 = 1-norm.cdf(1, loc=0, scale=1)
x2 = 1-norm.cdf(1, loc=0, scale=np.sqrt(2))

'%.2f' % (x1*x2*100)

x1 = 1-norm.cdf(1, loc=0, scale=1)
x2 = 1-norm.cdf(1/np.sqrt(2), loc=0, scale=1)

'%.2f' % (x1*x2*100)

0.1-0.25*(-1.5)
