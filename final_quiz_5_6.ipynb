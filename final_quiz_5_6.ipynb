{
 "cells": [
  {
   "cell_type": "code",
   "execution_count": 32,
   "metadata": {},
   "outputs": [],
   "source": [
    "import numpy as np\n",
    "import pandas as pd\n",
    "\n",
    "from pandas import ExcelWriter\n",
    "from pandas import ExcelFile\n",
    "\n",
    "from scipy.stats import *\n",
    "from scipy.optimize import *\n",
    "\n",
    "import matplotlib\n",
    "import matplotlib.pyplot as plt\n",
    "\n",
    "%matplotlib inline"
   ]
  },
  {
   "cell_type": "code",
   "execution_count": 37,
   "metadata": {},
   "outputs": [
    {
     "data": {
      "text/html": [
       "<div>\n",
       "<style scoped>\n",
       "    .dataframe tbody tr th:only-of-type {\n",
       "        vertical-align: middle;\n",
       "    }\n",
       "\n",
       "    .dataframe tbody tr th {\n",
       "        vertical-align: top;\n",
       "    }\n",
       "\n",
       "    .dataframe thead th {\n",
       "        text-align: right;\n",
       "    }\n",
       "</style>\n",
       "<table border=\"1\" class=\"dataframe\">\n",
       "  <thead>\n",
       "    <tr style=\"text-align: right;\">\n",
       "      <th></th>\n",
       "      <th>Cashflow dates:</th>\n",
       "      <th>delta</th>\n",
       "      <th>Bond 1</th>\n",
       "      <th>Bond 2</th>\n",
       "      <th>Bond 3</th>\n",
       "      <th>Bond 4</th>\n",
       "      <th>Bond 5</th>\n",
       "      <th>Bond 6</th>\n",
       "      <th>Bond 7</th>\n",
       "      <th>Bond 8</th>\n",
       "      <th>Bond 9</th>\n",
       "      <th>CF</th>\n",
       "    </tr>\n",
       "  </thead>\n",
       "  <tbody>\n",
       "    <tr>\n",
       "      <th>0</th>\n",
       "      <td>1996-09-26</td>\n",
       "      <td>0.108333</td>\n",
       "      <td>0.0</td>\n",
       "      <td>0.0</td>\n",
       "      <td>6.125</td>\n",
       "      <td>0.0</td>\n",
       "      <td>0.0</td>\n",
       "      <td>0.0</td>\n",
       "      <td>0.00</td>\n",
       "      <td>0.0</td>\n",
       "      <td>0.0</td>\n",
       "      <td>0.0</td>\n",
       "    </tr>\n",
       "    <tr>\n",
       "      <th>1</th>\n",
       "      <td>1996-10-13</td>\n",
       "      <td>0.047222</td>\n",
       "      <td>0.0</td>\n",
       "      <td>0.0</td>\n",
       "      <td>0.000</td>\n",
       "      <td>0.0</td>\n",
       "      <td>0.0</td>\n",
       "      <td>0.0</td>\n",
       "      <td>0.00</td>\n",
       "      <td>0.0</td>\n",
       "      <td>4.5</td>\n",
       "      <td>0.0</td>\n",
       "    </tr>\n",
       "    <tr>\n",
       "      <th>2</th>\n",
       "      <td>1996-11-06</td>\n",
       "      <td>0.063889</td>\n",
       "      <td>0.0</td>\n",
       "      <td>0.0</td>\n",
       "      <td>0.000</td>\n",
       "      <td>0.0</td>\n",
       "      <td>3.5</td>\n",
       "      <td>0.0</td>\n",
       "      <td>0.00</td>\n",
       "      <td>0.0</td>\n",
       "      <td>0.0</td>\n",
       "      <td>0.0</td>\n",
       "    </tr>\n",
       "    <tr>\n",
       "      <th>3</th>\n",
       "      <td>1996-11-15</td>\n",
       "      <td>0.025000</td>\n",
       "      <td>105.0</td>\n",
       "      <td>0.0</td>\n",
       "      <td>0.000</td>\n",
       "      <td>0.0</td>\n",
       "      <td>0.0</td>\n",
       "      <td>0.0</td>\n",
       "      <td>0.00</td>\n",
       "      <td>0.0</td>\n",
       "      <td>0.0</td>\n",
       "      <td>0.0</td>\n",
       "    </tr>\n",
       "    <tr>\n",
       "      <th>4</th>\n",
       "      <td>1996-12-07</td>\n",
       "      <td>0.061111</td>\n",
       "      <td>0.0</td>\n",
       "      <td>0.0</td>\n",
       "      <td>0.000</td>\n",
       "      <td>0.0</td>\n",
       "      <td>0.0</td>\n",
       "      <td>0.0</td>\n",
       "      <td>4.25</td>\n",
       "      <td>0.0</td>\n",
       "      <td>0.0</td>\n",
       "      <td>0.0</td>\n",
       "    </tr>\n",
       "  </tbody>\n",
       "</table>\n",
       "</div>"
      ],
      "text/plain": [
       "  Cashflow dates:     delta  Bond 1  Bond 2  Bond 3  Bond 4  Bond 5  Bond 6  \\\n",
       "0      1996-09-26  0.108333     0.0     0.0   6.125     0.0     0.0     0.0   \n",
       "1      1996-10-13  0.047222     0.0     0.0   0.000     0.0     0.0     0.0   \n",
       "2      1996-11-06  0.063889     0.0     0.0   0.000     0.0     3.5     0.0   \n",
       "3      1996-11-15  0.025000   105.0     0.0   0.000     0.0     0.0     0.0   \n",
       "4      1996-12-07  0.061111     0.0     0.0   0.000     0.0     0.0     0.0   \n",
       "\n",
       "   Bond 7  Bond 8  Bond 9   CF  \n",
       "0    0.00     0.0     0.0  0.0  \n",
       "1    0.00     0.0     4.5  0.0  \n",
       "2    0.00     0.0     0.0  0.0  \n",
       "3    0.00     0.0     0.0  0.0  \n",
       "4    4.25     0.0     0.0  0.0  "
      ]
     },
     "metadata": {},
     "output_type": "display_data"
    },
    {
     "data": {
      "text/plain": [
       "(9,\n",
       " 104,\n",
       " array([[3.0382181 , 0.        , 0.        , ..., 0.        , 0.        ,\n",
       "         0.        ],\n",
       "        [0.        , 4.60178993, 0.        , ..., 0.        , 0.        ,\n",
       "         0.        ],\n",
       "        [0.        , 0.        , 3.95628284, ..., 0.        , 0.        ,\n",
       "         0.        ],\n",
       "        ...,\n",
       "        [0.        , 0.        , 0.        , ..., 1.41421356, 0.        ,\n",
       "         0.        ],\n",
       "        [0.        , 0.        , 0.        , ..., 0.        , 1.41421356,\n",
       "         0.        ],\n",
       "        [0.        , 0.        , 0.        , ..., 0.        , 0.        ,\n",
       "         1.41421356]]),\n",
       " array([  0.,   0.,   0.,   0.,   0.,   0.,   0.,   0.,   0.,   0.,   0.,\n",
       "          0.,   0.,   0.,   0.,   0.,   0.,   0.,   0.,   0.,   0.,   0.,\n",
       "          0.,   0.,   0.,   0.,   0.,   0.,   0.,   0.,   0.,   0.,   0.,\n",
       "          0.,   0.,   0.,   0.,   0.,   0.,   0.,   0.,   0.,   0.,   0.,\n",
       "          0.,   0.,   0.,   0.,   0.,   0.,   0.,   0.,   0.,   0.,   0.,\n",
       "          0.,   0.,   0.,   0.,   0.,   0.,   0.,   0.,   0.,   0.,   0.,\n",
       "          0.,   0.,   0.,   0.,   0.,   0.,   0.,   0.,  80.,   0.,   0.,\n",
       "          0.,   0.,   0.,   0.,   0.,   0.,   0.,   0.,   0.,   0.,   0.,\n",
       "          0.,   0.,   0.,   0.,   0.,   0.,   0., 100.,   0.,   0.,  60.,\n",
       "          0.,   0.,   0.,   0., 250.]),\n",
       " 104)"
      ]
     },
     "execution_count": 37,
     "metadata": {},
     "output_type": "execute_result"
    }
   ],
   "source": [
    "df = pd.read_excel('Gilt_data.xlsx', sheet_name='cashflow')\n",
    "df = df.fillna(0)\n",
    "\n",
    "display(df.head())\n",
    "\n",
    "C = df[['Bond 1', 'Bond 2', 'Bond 3', 'Bond 4', 'Bond 5', 'Bond 6', 'Bond 7', 'Bond 8', 'Bond 9']]\n",
    "C = C.values.T\n",
    "W = np.diag(1/np.sqrt(df['delta']))\n",
    "\n",
    "Cp = df['CF'].values\n",
    "\n",
    "(m,n) = C.shape\n",
    "#C,W\n",
    "m,n,W, Cp, len(Cp)"
   ]
  },
  {
   "cell_type": "code",
   "execution_count": 35,
   "metadata": {},
   "outputs": [
    {
     "data": {
      "image/png": "[encoded data removed]",
      "text/plain": [
       "<Figure size 432x288 with 1 Axes>"
      ]
     },
     "metadata": {
      "needs_background": "light"
     },
     "output_type": "display_data"
    },
    {
     "data": {
      "text/plain": [
       "(array([-0.01525984, -0.01011702, -0.01140611, -0.00717162, -0.01430635,\n",
       "        -0.01979241, -0.01897721, -0.00750553, -0.00684141, -0.01294414,\n",
       "        -0.01262153, -0.01431927, -0.016692  , -0.01945443, -0.01865572,\n",
       "        -0.00737779, -0.00672479, -0.01272288, -0.0124065 , -0.01406915,\n",
       "        -0.01640163, -0.01911644, -0.02142905, -0.00847979, -0.00773078,\n",
       "        -0.01463161, -0.01426146, -0.01622676, -0.01890653, -0.03040715,\n",
       "        -0.00829209, -0.00755944, -0.01430651, -0.01394551, -0.01585927,\n",
       "        -0.01847988, -0.02972178, -0.0081044 , -0.0073881 , -0.01398141,\n",
       "        -0.01431667, -0.01629098, -0.01898109, -0.03052693, -0.0083249 ,\n",
       "        -0.00758938, -0.0200287 , -0.01587454, -0.01849761, -0.02975026,\n",
       "        -0.0081122 , -0.00716919, -0.01891696, -0.01497331, -0.01745132,\n",
       "        -0.02806946, -0.01036071, -0.01843015, -0.01457868, -0.01699318,\n",
       "        -0.02733348, -0.0100878 , -0.01794334, -0.01418405, -0.01653503,\n",
       "        -0.02659749, -0.00981489, -0.01745653, -0.01378943, -0.01801748,\n",
       "        -0.02897895, -0.01069796, -0.01903172, -0.02308558, -0.02813386,\n",
       "        -0.00940561, -0.01672648, -0.0202222 , -0.02628869, -0.01625263,\n",
       "        -0.01963362, -0.02552463, -0.01577878, -0.01904505, -0.02476057,\n",
       "        -0.01530493, -0.01845647, -0.02399651, -0.01483108, -0.01786789,\n",
       "        -0.02323246, -0.01435723, -0.01727932, -0.0224684 , -0.01388338,\n",
       "        -0.01669074, -0.02258216, -0.01395394, -0.02749394, -0.01214275,\n",
       "        -0.0265256 , -0.02551403, -0.02450246, -0.02349089]),\n",
       " array([0.99497737, 0.99277887, 0.98989584, 0.9887619 , 0.98522528,\n",
       "        0.97846488, 0.97229932, 0.97133036, 0.97052409, 0.96762969,\n",
       "        0.96488695, 0.96126757, 0.95636935, 0.9497244 , 0.94366329,\n",
       "        0.94271082, 0.94191829, 0.93907337, 0.93637735, 0.9328212 ,\n",
       "        0.92800819, 0.92147869, 0.91451654, 0.9134218 , 0.91251072,\n",
       "        0.90923899, 0.90613988, 0.90203836, 0.8964903 , 0.88215623,\n",
       "        0.88108572, 0.88019484, 0.8769958 , 0.87396535, 0.86995672,\n",
       "        0.86453386, 0.85052288, 0.8494766 , 0.84860591, 0.84547957,\n",
       "        0.84236846, 0.83825071, 0.83268077, 0.81829024, 0.8172155 ,\n",
       "        0.81632108, 0.81007604, 0.80606355, 0.80063548, 0.78661107,\n",
       "        0.78556379, 0.7847189 , 0.7788205 , 0.77503581, 0.76991477,\n",
       "        0.7566827 , 0.75487163, 0.74912502, 0.74544008, 0.74045348,\n",
       "        0.72756836, 0.725805  , 0.72021018, 0.71662498, 0.71177283,\n",
       "        0.69923465, 0.69751899, 0.69207596, 0.68859051, 0.68330334,\n",
       "        0.66964253, 0.66777251, 0.66183833, 0.65289732, 0.63963489,\n",
       "        0.63799078, 0.63277538, 0.62494336, 0.6117262 , 0.60665855,\n",
       "        0.59905448, 0.58622146, 0.58130156, 0.57392545, 0.56147657,\n",
       "        0.55670442, 0.54955626, 0.53749153, 0.53286713, 0.52594692,\n",
       "        0.51426634, 0.50978968, 0.50309743, 0.49180099, 0.48747209,\n",
       "        0.48100779, 0.46965416, 0.46530325, 0.44785428, 0.44406812,\n",
       "        0.42531169, 0.40727054, 0.38994468, 0.37333412]))"
      ]
     },
     "execution_count": 35,
     "metadata": {},
     "output_type": "execute_result"
    }
   ],
   "source": [
    "delta = 1/2\n",
    "\n",
    "p = np.array([103.82, 106.04, 118.44, 106.28, 101.15, 111.06, 106.24, 98.49, 110.87])\n",
    "\n",
    "M = np.zeros((n,n))\n",
    "e1 = np.array([0]*n)\n",
    "\n",
    "e1[0] = 1\n",
    "\n",
    "M[0,0] = 1\n",
    "for i in range(1, n):\n",
    "    M[i,i-1] = -1\n",
    "    M[i,i] = 1\n",
    "\n",
    "W_1 = np.linalg.inv(W)\n",
    "M_1 = np.linalg.inv(M)\n",
    "\n",
    "A = C @ M_1 @ W_1\n",
    "AA_T1 = np.linalg.inv(A @ A.T)\n",
    "\n",
    "Delta_star = A.T @ AA_T1 @ (p.T - C @ M_1 @ e1.T)\n",
    "\n",
    "# step 1: P(0,Ti) with pseudo-inverse method\n",
    "d = M_1 @ (W_1 @ Delta_star + e1.T)\n",
    "\n",
    "x = np.linspace(0, 30, n)\n",
    "plt.plot(x, d)\n",
    "plt.xlabel('Year')\n",
    "plt.show()\n",
    "\n",
    "pd.DataFrame(d).to_csv('d.csv')\n",
    "Delta_star, d"
   ]
  },
  {
   "cell_type": "code",
   "execution_count": 87,
   "metadata": {},
   "outputs": [
    {
     "data": {
      "image/png": "[encoded data removed]",
      "text/plain": [
       "<Figure size 432x288 with 1 Axes>"
      ]
     },
     "metadata": {
      "needs_background": "light"
     },
     "output_type": "display_data"
    },
    {
     "data": {
      "text/plain": [
       "(array([-0.00258612, -0.00249125, -0.004823  , -0.00472376, -0.01224775,\n",
       "        -0.0121287 , -0.01412773, -0.01399882, -0.01665935, -0.01651357,\n",
       "        -0.01763396, -0.01747894, -0.01893035, -0.01876199, -0.01920616,\n",
       "        -0.01903217, -0.02001872, -0.01983318, -0.01736235, -0.01720115,\n",
       "        -0.01974324, -0.01955217, -0.0193611 , -0.01917003, -0.01897896,\n",
       "        -0.01878788, -0.01859681, -0.01840574, -0.01821467, -0.0180236 ,\n",
       "        -0.0142409 , -0.01409706, -0.01395322, -0.01380938, -0.01366554,\n",
       "        -0.01352169, -0.01337785, -0.01323401, -0.01309017, -0.01294633,\n",
       "        -0.01034166, -0.01023141, -0.01012115, -0.0100109 , -0.00990065,\n",
       "        -0.0097904 , -0.00968015, -0.0095699 , -0.00945965, -0.00934939,\n",
       "        -0.00923914, -0.00912889, -0.00901864, -0.00890839, -0.00879814,\n",
       "        -0.00868789, -0.00857764, -0.00846738, -0.00835713, -0.00824688]),\n",
       " array([0.99817134, 0.99640975, 0.99299938, 0.98965918, 0.98099871,\n",
       "        0.97242243, 0.96243262, 0.95253395, 0.94075401, 0.92907715,\n",
       "        0.91660806, 0.90424858, 0.89086281, 0.87759608, 0.86401527,\n",
       "        0.8505575 , 0.83640213, 0.82237795, 0.81010092, 0.79793787,\n",
       "        0.78397729, 0.77015182, 0.75646145, 0.7429062 , 0.72948605,\n",
       "        0.71620101, 0.70305108, 0.69003625, 0.67715654, 0.66441193,\n",
       "        0.65434209, 0.64437396, 0.63450755, 0.62474284, 0.61507985,\n",
       "        0.60551857, 0.596059  , 0.58670114, 0.57744499, 0.56829055,\n",
       "        0.5609779 , 0.5537432 , 0.54658646, 0.53950768, 0.53250687,\n",
       "        0.52558401, 0.51873911, 0.51197217, 0.50528319, 0.49867217,\n",
       "        0.49213911, 0.48568401, 0.47930686, 0.47300768, 0.46678646,\n",
       "        0.46064319, 0.45457789, 0.44859055, 0.44268116, 0.43684973]))"
      ]
     },
     "execution_count": 87,
     "metadata": {},
     "output_type": "execute_result"
    }
   ],
   "source": [
    "\n",
    "\n",
    "R = {} #=dict([(1,0.36), (2,20), ()])\n",
    "maturity = np.array([1, 2, 3, 4, 5, 6, 7, 8, 9, 10, 15, 20, 30])\n",
    "swap_rate = np.array([0.36, 0.52, 0.93, 1.21, 1.46, 1.66, 1.84, 1.99, 2.13, 2.21,\n",
    "                      2.63, 2.73, 2.71])\n",
    "m = len(maturity)\n",
    "for i in range(m):\n",
    "    R[maturity[i]] = swap_rate[i]/100\n",
    "\n",
    "p = np.array([1]*m)\n",
    "C = np.zeros((m,n))\n",
    "W = np.zeros((n,n))\n",
    "M = np.zeros((n,n))\n",
    "e1 = np.array([0]*n)\n",
    "\n",
    "e1[0] = 1\n",
    "\n",
    "for i in range(m):\n",
    "    for j in range(n):\n",
    "        j1 = j+1\n",
    "        if (j1/2) < maturity[i]:\n",
    "            C[i,j] = R[maturity[i]]/2\n",
    "        elif (j1/2) == maturity[i]:\n",
    "            C[i,j] = 1 + R[maturity[i]]/2\n",
    "        else:\n",
    "            C[i,j] = 0.0\n",
    "\n",
    "W = np.diag([1/np.sqrt(delta)]*n)\n",
    "\n",
    "M[0,0] = 1\n",
    "for i in range(1, n):\n",
    "    M[i,i-1] = -1\n",
    "    M[i,i] = 1\n",
    "\n",
    "W_1 = np.linalg.inv(W)\n",
    "M_1 = np.linalg.inv(M)\n",
    "\n",
    "A = C @ M_1 @ W_1\n",
    "AA_T1 = np.linalg.inv(A @ A.T)\n",
    "\n",
    "Delta_star = A.T @ AA_T1 @ (p.T - C @ M_1 @ e1.T)\n",
    "\n",
    "# step 1: P(0,Ti) with pseudo-inverse method\n",
    "d = M_1 @ (W_1 @ Delta_star + e1.T)\n",
    "\n",
    "x = np.linspace(0, 30, 60)\n",
    "plt.plot(x, d)\n",
    "plt.xlabel('Year')\n",
    "plt.show()\n",
    "\n",
    "Delta_star, d"
   ]
  },
  {
   "cell_type": "code",
   "execution_count": 39,
   "metadata": {},
   "outputs": [
    {
     "data": {
      "text/plain": [
       "(219.47635664398297,\n",
       " array([-0.13148398, -0.22068335, -0.23634562, -0.31876045, -0.3337591 ,\n",
       "         0.25854534,  0.44961204,  0.31583559,  2.23050021]))"
      ]
     },
     "execution_count": 39,
     "metadata": {},
     "output_type": "execute_result"
    }
   ],
   "source": [
    "# Q5\n",
    "vp = Cp @ d\n",
    "\n",
    "# Q6\n",
    "\n",
    "dp = Cp.T @ M_1 @ W_1 @ A.T @ AA_T1\n",
    "\n",
    "vp, dp"
   ]
  },
  {
   "cell_type": "code",
   "execution_count": 91,
   "metadata": {},
   "outputs": [
    {
     "data": {
      "text/plain": [
       "0.027676714501101474"
      ]
     },
     "execution_count": 91,
     "metadata": {},
     "output_type": "execute_result"
    }
   ],
   "source": [
    "#step 2: k=?\n",
    "\n",
    "k = (d[0]-d[-1])/(delta*sum(d[1:]))\n",
    "k"
   ]
  },
  {
   "cell_type": "code",
   "execution_count": 106,
   "metadata": {},
   "outputs": [
    {
     "data": {
      "text/plain": [
       "'cp = 18.39'"
      ]
     },
     "execution_count": 106,
     "metadata": {},
     "output_type": "execute_result"
    }
   ],
   "source": [
    "# step 3: calc the price of ATM cap\n",
    "\n",
    "def myIntegral(b, nu, t0, t1):\n",
    "    return nu**2/b**2 *(np.exp(-b*t0) - np.exp(-b*t1))**2 * (np.exp(2*b*t0)-1)/(2*b)\n",
    "\n",
    "def Cap_hjm(b2, v2, k, delta, d):\n",
    "    myAns = 0\n",
    "    n = len(d)\n",
    "    for i in range(1, n):\n",
    "        t0 = i/2\n",
    "        t1 = t0 + delta\n",
    "        I = myIntegral(b2[0], v2[0], t0, t1) + myIntegral(b2[1], v2[1], t0, t1)\n",
    "        #print(I)\n",
    "        d1 = (np.log(d[i]/d[i-1]*(1+delta*k)) + 0.5*I)/np.sqrt(I)\n",
    "        d2 = (np.log(d[i]/d[i-1]*(1+delta*k)) - 0.5*I)/np.sqrt(I)\n",
    "        cplt_i = d[i-1]*norm.cdf(-d2,0,1)-(1+delta*k)*d[i]*(norm.cdf(-d1,0,1))\n",
    "        #print(d[i])\n",
    "        #print(cplt_i)\n",
    "        myAns = myAns + cplt_i \n",
    "    return myAns\n",
    "\n",
    "v2 = (0.01, 0.02)\n",
    "b2 = (0.3, 0.5)\n",
    "\n",
    "cp = Cap_hjm(b2, v2, k, delta, d)\n",
    "'cp = %.2f' % (cp*100)"
   ]
  },
  {
   "cell_type": "code",
   "execution_count": 113,
   "metadata": {},
   "outputs": [
    {
     "data": {
      "text/plain": [
       "(array([0.99817134, 0.99640975, 0.99299938, 0.98965918, 0.98099871,\n",
       "        0.97242243, 0.96243262, 0.95253395, 0.94075401, 0.92907715,\n",
       "        0.91660806, 0.90424858, 0.89086281, 0.87759608, 0.86401527,\n",
       "        0.8505575 , 0.83640213, 0.82237795, 0.81010092, 0.79793787,\n",
       "        0.78397729, 0.77015182, 0.75646145, 0.7429062 , 0.72948605,\n",
       "        0.71620101, 0.70305108, 0.69003625, 0.67715654, 0.66441193,\n",
       "        0.65434209, 0.64437396, 0.63450755, 0.62474284, 0.61507985,\n",
       "        0.60551857, 0.596059  , 0.58670114, 0.57744499, 0.56829055,\n",
       "        0.5609779 , 0.5537432 , 0.54658646, 0.53950768, 0.53250687,\n",
       "        0.52558401, 0.51873911, 0.51197217, 0.50528319, 0.49867217,\n",
       "        0.49213911, 0.48568401, 0.47930686, 0.47300768, 0.46678646,\n",
       "        0.46064319, 0.45457789, 0.44859055, 0.44268116, 0.43684973]),\n",
       " array([0.        , 0.00353586, 0.00686883, 0.00675021, 0.01765643,\n",
       "        0.01763901, 0.0207595 , 0.02078385, 0.02504362, 0.02513647,\n",
       "        0.02720703, 0.02733646, 0.03005126, 0.03023425, 0.03143649,\n",
       "        0.0316446 , 0.03384825, 0.0341064 , 0.03030988, 0.0304862 ,\n",
       "        0.03561476, 0.03590324, 0.0361958 , 0.03649251, 0.03679343,\n",
       "        0.03709863, 0.03740818, 0.03772215, 0.03804059, 0.03836357,\n",
       "        0.03077852, 0.03093895, 0.03109945, 0.03125992, 0.03142029,\n",
       "        0.03158048, 0.03174038, 0.03189992, 0.03205898, 0.03221745,\n",
       "        0.0260711 , 0.02613015, 0.02618703, 0.02624162, 0.02629381,\n",
       "        0.02634349, 0.02639053, 0.02643479, 0.02647616, 0.0265145 ,\n",
       "        0.02654965, 0.02658149, 0.02660985, 0.02663459, 0.02665554,\n",
       "        0.02667255, 0.02668543, 0.02669403, 0.02669816, 0.02669763]),\n",
       " 0.5)"
      ]
     },
     "execution_count": 113,
     "metadata": {},
     "output_type": "execute_result"
    }
   ],
   "source": [
    "#step 4: P(0,Ti) => F(0,T(i-1), T(i))\n",
    "\n",
    "F = np.array([0.0]*n)\n",
    "\n",
    "for i in range(1, n):\n",
    "    F[i] = (1/delta)*(d[i-1]/d[i]-1)\n",
    "d,F,delta"
   ]
  },
  {
   "cell_type": "code",
   "execution_count": 114,
   "metadata": {},
   "outputs": [
    {
     "data": {
      "text/plain": [
       "0.2185436423767169"
      ]
     },
     "execution_count": 114,
     "metadata": {},
     "output_type": "execute_result"
    }
   ],
   "source": [
    "#step 5: solve for black vol\n",
    "\n",
    "def BlackCap(sig, k, fwds, delta, d):\n",
    "    myAns = 0\n",
    "    n = len(d)\n",
    "    for i in range(1, n):\n",
    "        ti = i/2\n",
    "        d1 = (np.log(fwds[i]/k) + 0.5*(sig**2)*ti)/(sig*np.sqrt(ti))\n",
    "        d2 = d1 - sig*np.sqrt(ti)\n",
    "        cplt_i = delta*d[i]*(fwds[i]*norm.cdf(d1,0,1) - k*norm.cdf(d2,0,1))\n",
    "        myAns = myAns + cplt_i\n",
    "    return myAns\n",
    "\n",
    "BCap = lambda iv: BlackCap(iv, k, F, delta, d) - cp\n",
    "impVol = bisect(BCap, 0.005, 0.25)\n",
    "\n",
    "impVol"
   ]
  },
  {
   "cell_type": "code",
   "execution_count": 116,
   "metadata": {},
   "outputs": [
    {
     "data": {
      "text/plain": [
       "60.733695918380235"
      ]
     },
     "execution_count": 116,
     "metadata": {},
     "output_type": "execute_result"
    }
   ],
   "source": [
    "#step 6: solve for norm vol\n",
    "\n",
    "def BachelierCap(sig, k, fwds, delta, d):\n",
    "    myAns = 0\n",
    "    n = len(d)\n",
    "    for i in range(1, n):\n",
    "        ti = i/2\n",
    "        Di = (fwds[i] - k)/(sig*np.sqrt(ti))\n",
    "        cplt_i = delta*d[i]*(sig*np.sqrt(ti))*(Di*norm.cdf(Di,0,1) + norm.pdf(Di,0,1))\n",
    "        myAns = myAns + cplt_i\n",
    "    return myAns\n",
    "\n",
    "BachCap = lambda iv: BachelierCap(iv, k, F, delta, d) - cp\n",
    "impVol = bisect(BachCap, 1e-8, 0.25)\n",
    "\n",
    "impVol*1e4"
   ]
  },
  {
   "cell_type": "code",
   "execution_count": null,
   "metadata": {},
   "outputs": [],
   "source": []
  }
 ],
 "metadata": {
  "kernelspec": {
   "display_name": "Python 3",
   "language": "python",
   "name": "python3"
  },
  "language_info": {
   "codemirror_mode": {
    "name": "ipython",
    "version": 3
   },
   "file_extension": ".py",
   "mimetype": "text/x-python",
   "name": "python",
   "nbconvert_exporter": "python",
   "pygments_lexer": "ipython3",
   "version": "3.6.6"
  }
 },
 "nbformat": 4,
 "nbformat_minor": 2
}
