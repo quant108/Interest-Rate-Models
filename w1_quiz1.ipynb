{
 "cells": [
  {
   "cell_type": "code",
   "execution_count": 13,
   "metadata": {},
   "outputs": [
    {
     "name": "stdout",
     "output_type": "stream",
     "text": [
      "T = 35\n"
     ]
    }
   ],
   "source": [
    "# Week1: quiz1\n",
    "\n",
    "import numpy as np\n",
    "\n",
    "# Q1\n",
    "# 2 = exp(r*T)\n",
    "\n",
    "r = 0.02\n",
    "T = np.log(2)/r\n",
    "\n",
    "print('T = %d' % np.round(T))"
   ]
  },
  {
   "cell_type": "code",
   "execution_count": 15,
   "metadata": {},
   "outputs": [
    {
     "name": "stdout",
     "output_type": "stream",
     "text": [
      "y = 8.11\n"
     ]
    }
   ],
   "source": [
    "# Q2\n",
    "# 1+5*0.10 = exp(5*y)\n",
    "\n",
    "L = 0.10\n",
    "T = 5\n",
    "y = 100*np.log(1+T*L)/T\n",
    "\n",
    "print('y = %.2f' % y)"
   ]
  },
  {
   "cell_type": "code",
   "execution_count": 22,
   "metadata": {},
   "outputs": [
    {
     "data": {
      "text/plain": [
       "(1.9, 2.0137527074704766)"
      ]
     },
     "execution_count": 22,
     "metadata": {},
     "output_type": "execute_result"
    }
   ],
   "source": [
    "# Q4\n",
    "\n",
    "T = 10\n",
    "A = 1+0.09*T\n",
    "B = np.exp(T*0.07)\n",
    "\n",
    "A, B"
   ]
  },
  {
   "cell_type": "code",
   "execution_count": null,
   "metadata": {},
   "outputs": [],
   "source": []
  }
 ],
 "metadata": {
  "kernelspec": {
   "display_name": "Python 3",
   "language": "python",
   "name": "python3"
  },
  "language_info": {
   "codemirror_mode": {
    "name": "ipython",
    "version": 3
   },
   "file_extension": ".py",
   "mimetype": "text/x-python",
   "name": "python",
   "nbconvert_exporter": "python",
   "pygments_lexer": "ipython3",
   "version": "3.6.6"
  }
 },
 "nbformat": 4,
 "nbformat_minor": 2
}
