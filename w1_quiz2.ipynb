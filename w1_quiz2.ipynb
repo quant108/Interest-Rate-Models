import numpy as np

#1

#np.exp(0.04*1) *(1+F*1)=np.exp(0.06*2)

F = np.exp(0.06*2)/np.exp(0.04*1) - 1
print('%.2f' % (F*100))
