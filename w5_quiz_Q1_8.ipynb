import numpy as np
from scipy.stats import norm

#Q1

sig=0.01
k=0.86

x = sig**2/k**2 * (1/2 - 1/2*np.exp(-2*k)-(1-np.exp(-k)))

'%.2f' % (x*1e4)

# Q8

# AT in CT, BJork, page 382, Propposition 24.3.
def exact_zcb(theta, kappa, sigma, tau, r0):
    B = (1-np.exp(-kappa*tau))/kappa
    A = (theta - (sigma**2)/(2*(kappa**2)))*(B-tau) - (sigma**2)*(B**2)/(4*kappa)
    return np.exp(A-r0*B)
    
a     = 0.86 # a=k
theta = 0.09
sigma = 0.0148
r0    = 0.08

n = 120
T = [i/4 for i in range(n+1)]
delta = 1/4.

P_0T = [0]*(n+1)
for i in range(n+1):
    P_0T[i] = exact_zcb(theta, a, sigma, T[i], r0)

#print(P_0T)

k = (P_0T[1]-P_0T[n])/(sum(P_0T[2:])*delta)

# k =0.09


d1_T = [0]*(n-1)
d2_T = [0]*(n-1)

for i in range(n-1):
    p1 = np.log(P_0T[i+2]/P_0T[i+1]*(1+delta*k))
    p2 = (np.exp(-a*T[i+1])-np.exp(-a*T[i+2]))**2
    p2 = ((sigma/a)**2)*p2*(np.exp(2*a*T[i+1])-1)/(2*a)
    d1_T[i] = (p1 + 0.5*p2)/np.sqrt(p2)
    d2_T[i] = (p1 - 0.5*p2)/np.sqrt(p2)

Cpl_T = [0]*(n-2)
# Cpl_T[0] = delta*P_0T[1]*max(0, (F_0T[i] - k))
for i in range(n-2):
    phi1 = norm.cdf(-d1_T[i])
    phi2 = norm.cdf(-d2_T[i])
    Cpl_T[i] = (1+delta*k)*(P_0T[i+1]*phi2/(1+delta*k) - P_0T[i+2]*phi1)
    
Cp = sum(Cpl_T)

# (0.09005368218825467, 0.04153100218194576)
k, Cp
