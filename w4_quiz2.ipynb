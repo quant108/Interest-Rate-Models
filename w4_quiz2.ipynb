import numpy as np

#Q3

x1 = 0.1**2/(2*0.2)*(1-np.exp(-2*0.2*1))
x1 = np.sqrt(x1)

"stdev: %.2f" % (x1*100)

# Q4

from scipy.stats import norm

x2 = norm.cdf((0-0.05)/x1)

"P(r(1)<0): %.2f" % (x2*100)

x1, (0-0.05)/x1
