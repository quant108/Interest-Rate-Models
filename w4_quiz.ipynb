#W4, Quiz,

# Q6

import numpy as np
from scipy.stats import norm

def v2(sigma, k, T0, T1):
    return (sigma**2/k**2)*((np.exp(-k*T0)-np.exp(-k*T1))**2)*((np.exp(2*k*T0)-1)/(2*k))
    

d1 = (1/2)*np.sqrt(v2(0.01, 0.86, 1/4., 1/2.))

d2 = -(1/2)*np.sqrt(v2(0.01, 0.86, 1/4., 1/2.))

P_put = norm.cdf(-d2) - norm.cdf(-d1)
P_put


import numpy as np

## Set model parameters
r0    = 0.06
theta = 0.08 #mean reversion level
k     = 0.86 #speed of mean reversion
sigma = 0.01 #volatility
phi   = -1
S = 0.5 #ZC bond maturity
t = 0 #valuation date
T = 0.25 #ZC option maturity

#Zero-coupon bond prices in Vasicek model, Brigo, IRM, p59

def vasicek_zc_price(r0, k, theta, sigma, T, t):
    B = (1/k)*(1-np.exp(-k*(T-t))) 
    A = np.exp((theta - 0.5*sigma**2/k**2)*(B - T + t) - (sigma**2) / (4*k) * (B**2))
    return (A*np.exp(-B*r0))

p1 = vasicek_zc_price(r0, k, theta, sigma, S, t)

"%.2f" % (p1*P_put*1e4)

d1, d2
