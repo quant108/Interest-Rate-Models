{
 "cells": [
  {
   "cell_type": "code",
   "execution_count": 93,
   "metadata": {},
   "outputs": [],
   "source": [
    "import numpy as np\n",
    "from scipy.stats import *\n",
    "from scipy.optimize import *\n",
    "\n",
    "import matplotlib\n",
    "import matplotlib.pyplot as plt\n",
    "\n",
    "%matplotlib inline"
   ]
  },
  {
   "cell_type": "code",
   "execution_count": 87,
   "metadata": {},
   "outputs": [
    {
     "data": {
      "image/png": "[encoded data removed]",
      "text/plain": [
       "<Figure size 432x288 with 1 Axes>"
      ]
     },
     "metadata": {
      "needs_background": "light"
     },
     "output_type": "display_data"
    },
    {
     "data": {
      "text/plain": [
       "(array([-0.00258612, -0.00249125, -0.004823  , -0.00472376, -0.01224775,\n",
       "        -0.0121287 , -0.01412773, -0.01399882, -0.01665935, -0.01651357,\n",
       "        -0.01763396, -0.01747894, -0.01893035, -0.01876199, -0.01920616,\n",
       "        -0.01903217, -0.02001872, -0.01983318, -0.01736235, -0.01720115,\n",
       "        -0.01974324, -0.01955217, -0.0193611 , -0.01917003, -0.01897896,\n",
       "        -0.01878788, -0.01859681, -0.01840574, -0.01821467, -0.0180236 ,\n",
       "        -0.0142409 , -0.01409706, -0.01395322, -0.01380938, -0.01366554,\n",
       "        -0.01352169, -0.01337785, -0.01323401, -0.01309017, -0.01294633,\n",
       "        -0.01034166, -0.01023141, -0.01012115, -0.0100109 , -0.00990065,\n",
       "        -0.0097904 , -0.00968015, -0.0095699 , -0.00945965, -0.00934939,\n",
       "        -0.00923914, -0.00912889, -0.00901864, -0.00890839, -0.00879814,\n",
       "        -0.00868789, -0.00857764, -0.00846738, -0.00835713, -0.00824688]),\n",
       " array([0.99817134, 0.99640975, 0.99299938, 0.98965918, 0.98099871,\n",
       "        0.97242243, 0.96243262, 0.95253395, 0.94075401, 0.92907715,\n",
       "        0.91660806, 0.90424858, 0.89086281, 0.87759608, 0.86401527,\n",
       "        0.8505575 , 0.83640213, 0.82237795, 0.81010092, 0.79793787,\n",
       "        0.78397729, 0.77015182, 0.75646145, 0.7429062 , 0.72948605,\n",
       "        0.71620101, 0.70305108, 0.69003625, 0.67715654, 0.66441193,\n",
       "        0.65434209, 0.64437396, 0.63450755, 0.62474284, 0.61507985,\n",
       "        0.60551857, 0.596059  , 0.58670114, 0.57744499, 0.56829055,\n",
       "        0.5609779 , 0.5537432 , 0.54658646, 0.53950768, 0.53250687,\n",
       "        0.52558401, 0.51873911, 0.51197217, 0.50528319, 0.49867217,\n",
       "        0.49213911, 0.48568401, 0.47930686, 0.47300768, 0.46678646,\n",
       "        0.46064319, 0.45457789, 0.44859055, 0.44268116, 0.43684973]))"
      ]
     },
     "execution_count": 87,
     "metadata": {},
     "output_type": "execute_result"
    }
   ],
   "source": [
    "delta = 1/2\n",
    "n = 60\n",
    "\n",
    "R = {} #=dict([(1,0.36), (2,20), ()])\n",
    "maturity = np.array([1, 2, 3, 4, 5, 6, 7, 8, 9, 10, 15, 20, 30])\n",
    "swap_rate = np.array([0.36, 0.52, 0.93, 1.21, 1.46, 1.66, 1.84, 1.99, 2.13, 2.21,\n",
    "                      2.63, 2.73, 2.71])\n",
    "m = len(maturity)\n",
    "for i in range(m):\n",
    "    R[maturity[i]] = swap_rate[i]/100\n",
    "\n",
    "p = np.array([1]*m)\n",
    "C = np.zeros((m,n))\n",
    "W = np.zeros((n,n))\n",
    "M = np.zeros((n,n))\n",
    "e1 = np.array([0]*n)\n",
    "\n",
    "e1[0] = 1\n",
    "\n",
    "for i in range(m):\n",
    "    for j in range(n):\n",
    "        j1 = j+1\n",
    "        if (j1/2) < maturity[i]:\n",
    "            C[i,j] = R[maturity[i]]/2\n",
    "        elif (j1/2) == maturity[i]:\n",
    "            C[i,j] = 1 + R[maturity[i]]/2\n",
    "        else:\n",
    "            C[i,j] = 0.0\n",
    "\n",
    "W = np.diag([1/np.sqrt(delta)]*n)\n",
    "\n",
    "M[0,0] = 1\n",
    "for i in range(1, n):\n",
    "    M[i,i-1] = -1\n",
    "    M[i,i] = 1\n",
    "\n",
    "W_1 = np.linalg.inv(W)\n",
    "M_1 = np.linalg.inv(M)\n",
    "\n",
    "A = C @ M_1 @ W_1\n",
    "AA_T1 = np.linalg.inv(A @ A.T)\n",
    "\n",
    "Delta_star = A.T @ AA_T1 @ (p.T - C @ M_1 @ e1.T)\n",
    "\n",
    "# step 1: P(0,Ti) with pseudo-inverse method\n",
    "d = M_1 @ (W_1 @ Delta_star + e1.T)\n",
    "\n",
    "x = np.linspace(0, 30, 60)\n",
    "plt.plot(x, d)\n",
    "plt.xlabel('Year')\n",
    "plt.show()\n",
    "\n",
    "Delta_star, d"
   ]
  },
  {
   "cell_type": "code",
   "execution_count": 91,
   "metadata": {},
   "outputs": [
    {
     "data": {
      "text/plain": [
       "0.027676714501101474"
      ]
     },
     "execution_count": 91,
     "metadata": {},
     "output_type": "execute_result"
    }
   ],
   "source": [
    "#step 2: k=?\n",
    "\n",
    "k = (d[0]-d[-1])/(delta*sum(d[1:]))\n",
    "k"
   ]
  },
  {
   "cell_type": "code",
   "execution_count": 106,
   "metadata": {},
   "outputs": [
    {
     "data": {
      "text/plain": [
       "'cp = 18.39'"
      ]
     },
     "execution_count": 106,
     "metadata": {},
     "output_type": "execute_result"
    }
   ],
   "source": [
    "# step 3: calc the price of ATM cap\n",
    "\n",
    "def myIntegral(b, nu, t0, t1):\n",
    "    return nu**2/b**2 *(np.exp(-b*t0) - np.exp(-b*t1))**2 * (np.exp(2*b*t0)-1)/(2*b)\n",
    "\n",
    "def Cap_hjm(b2, v2, k, delta, d):\n",
    "    myAns = 0\n",
    "    n = len(d)\n",
    "    for i in range(1, n):\n",
    "        t0 = i/2\n",
    "        t1 = t0 + delta\n",
    "        I = myIntegral(b2[0], v2[0], t0, t1) + myIntegral(b2[1], v2[1], t0, t1)\n",
    "        #print(I)\n",
    "        d1 = (np.log(d[i]/d[i-1]*(1+delta*k)) + 0.5*I)/np.sqrt(I)\n",
    "        d2 = (np.log(d[i]/d[i-1]*(1+delta*k)) - 0.5*I)/np.sqrt(I)\n",
    "        cplt_i = d[i-1]*norm.cdf(-d2,0,1)-(1+delta*k)*d[i]*(norm.cdf(-d1,0,1))\n",
    "        #print(d[i])\n",
    "        #print(cplt_i)\n",
    "        myAns = myAns + cplt_i \n",
    "    return myAns\n",
    "\n",
    "v2 = (0.01, 0.02)\n",
    "b2 = (0.3, 0.5)\n",
    "\n",
    "cp = Cap_hjm(b2, v2, k, delta, d)\n",
    "'cp = %.2f' % (cp*100)"
   ]
  },
  {
   "cell_type": "code",
   "execution_count": 113,
   "metadata": {},
   "outputs": [
    {
     "data": {
      "text/plain": [
       "(array([0.99817134, 0.99640975, 0.99299938, 0.98965918, 0.98099871,\n",
       "        0.97242243, 0.96243262, 0.95253395, 0.94075401, 0.92907715,\n",
       "        0.91660806, 0.90424858, 0.89086281, 0.87759608, 0.86401527,\n",
       "        0.8505575 , 0.83640213, 0.82237795, 0.81010092, 0.79793787,\n",
       "        0.78397729, 0.77015182, 0.75646145, 0.7429062 , 0.72948605,\n",
       "        0.71620101, 0.70305108, 0.69003625, 0.67715654, 0.66441193,\n",
       "        0.65434209, 0.64437396, 0.63450755, 0.62474284, 0.61507985,\n",
       "        0.60551857, 0.596059  , 0.58670114, 0.57744499, 0.56829055,\n",
       "        0.5609779 , 0.5537432 , 0.54658646, 0.53950768, 0.53250687,\n",
       "        0.52558401, 0.51873911, 0.51197217, 0.50528319, 0.49867217,\n",
       "        0.49213911, 0.48568401, 0.47930686, 0.47300768, 0.46678646,\n",
       "        0.46064319, 0.45457789, 0.44859055, 0.44268116, 0.43684973]),\n",
       " array([0.        , 0.00353586, 0.00686883, 0.00675021, 0.01765643,\n",
       "        0.01763901, 0.0207595 , 0.02078385, 0.02504362, 0.02513647,\n",
       "        0.02720703, 0.02733646, 0.03005126, 0.03023425, 0.03143649,\n",
       "        0.0316446 , 0.03384825, 0.0341064 , 0.03030988, 0.0304862 ,\n",
       "        0.03561476, 0.03590324, 0.0361958 , 0.03649251, 0.03679343,\n",
       "        0.03709863, 0.03740818, 0.03772215, 0.03804059, 0.03836357,\n",
       "        0.03077852, 0.03093895, 0.03109945, 0.03125992, 0.03142029,\n",
       "        0.03158048, 0.03174038, 0.03189992, 0.03205898, 0.03221745,\n",
       "        0.0260711 , 0.02613015, 0.02618703, 0.02624162, 0.02629381,\n",
       "        0.02634349, 0.02639053, 0.02643479, 0.02647616, 0.0265145 ,\n",
       "        0.02654965, 0.02658149, 0.02660985, 0.02663459, 0.02665554,\n",
       "        0.02667255, 0.02668543, 0.02669403, 0.02669816, 0.02669763]),\n",
       " 0.5)"
      ]
     },
     "execution_count": 113,
     "metadata": {},
     "output_type": "execute_result"
    }
   ],
   "source": [
    "#step 4: P(0,Ti) => F(0,T(i-1), T(i))\n",
    "\n",
    "F = np.array([0.0]*n)\n",
    "\n",
    "for i in range(1, n):\n",
    "    F[i] = (1/delta)*(d[i-1]/d[i]-1)\n",
    "d,F,delta"
   ]
  },
  {
   "cell_type": "code",
   "execution_count": 114,
   "metadata": {},
   "outputs": [
    {
     "data": {
      "text/plain": [
       "0.2185436423767169"
      ]
     },
     "execution_count": 114,
     "metadata": {},
     "output_type": "execute_result"
    }
   ],
   "source": [
    "#step 5: solve for black vol\n",
    "\n",
    "def BlackCap(sig, k, fwds, delta, d):\n",
    "    myAns = 0\n",
    "    n = len(d)\n",
    "    for i in range(1, n):\n",
    "        ti = i/2\n",
    "        d1 = (np.log(fwds[i]/k) + 0.5*(sig**2)*ti)/(sig*np.sqrt(ti))\n",
    "        d2 = d1 - sig*np.sqrt(ti)\n",
    "        cplt_i = delta*d[i]*(fwds[i]*norm.cdf(d1,0,1) - k*norm.cdf(d2,0,1))\n",
    "        myAns = myAns + cplt_i\n",
    "    return myAns\n",
    "\n",
    "BCap = lambda iv: BlackCap(iv, k, F, delta, d) - cp\n",
    "impVol = bisect(BCap, 0.005, 0.25)\n",
    "\n",
    "impVol"
   ]
  },
  {
   "cell_type": "code",
   "execution_count": 116,
   "metadata": {},
   "outputs": [
    {
     "data": {
      "text/plain": [
       "60.733695918380235"
      ]
     },
     "execution_count": 116,
     "metadata": {},
     "output_type": "execute_result"
    }
   ],
   "source": [
    "#step 6: solve for norm vol\n",
    "\n",
    "def BachelierCap(sig, k, fwds, delta, d):\n",
    "    myAns = 0\n",
    "    n = len(d)\n",
    "    for i in range(1, n):\n",
    "        ti = i/2\n",
    "        Di = (fwds[i] - k)/(sig*np.sqrt(ti))\n",
    "        cplt_i = delta*d[i]*(sig*np.sqrt(ti))*(Di*norm.cdf(Di,0,1) + norm.pdf(Di,0,1))\n",
    "        myAns = myAns + cplt_i\n",
    "    return myAns\n",
    "\n",
    "BachCap = lambda iv: BachelierCap(iv, k, F, delta, d) - cp\n",
    "impVol = bisect(BachCap, 1e-8, 0.25)\n",
    "\n",
    "impVol*1e4"
   ]
  },
  {
   "cell_type": "code",
   "execution_count": null,
   "metadata": {},
   "outputs": [],
   "source": []
  }
 ],
 "metadata": {
  "kernelspec": {
   "display_name": "Python 3",
   "language": "python",
   "name": "python3"
  },
  "language_info": {
   "codemirror_mode": {
    "name": "ipython",
    "version": 3
   },
   "file_extension": ".py",
   "mimetype": "text/x-python",
   "name": "python",
   "nbconvert_exporter": "python",
   "pygments_lexer": "ipython3",
   "version": "3.6.6"
  }
 },
 "nbformat": 4,
 "nbformat_minor": 2
}
